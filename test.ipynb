{
 "cells": [
  {
   "cell_type": "code",
   "execution_count": 4,
   "metadata": {
    "collapsed": true
   },
   "outputs": [],
   "source": [
    "import os\n",
    "import sys\n",
    "module_path = os.path.abspath(os.path.join('..'))\n",
    "if module_path not in sys.path:\n",
    "    sys.path.append(module_path)"
   ]
  },
  {
   "cell_type": "code",
   "execution_count": 6,
   "metadata": {
    "collapsed": false
   },
   "outputs": [],
   "source": [
    "from lib import models, graph, coarsening\n",
    "import numpy as np\n",
    "import matplotlib.pyplot as plt\n",
    "%matplotlib inline"
   ]
  },
  {
   "cell_type": "code",
   "execution_count": 7,
   "metadata": {
    "collapsed": true
   },
   "outputs": [],
   "source": [
    "from data_utils import *"
   ]
  },
  {
   "cell_type": "markdown",
   "metadata": {},
   "source": [
    "Load fMRI features and behavioral labels for each block of trials per subject during cup task. The feature for each node/fMRI channel is the lowest frequency Fourier coefficient of the centered and scaled time series during a block. The labels indicate win or loss during a block. There are $209\\text{ subjects} \\times 4\\text{ blocks}=836 \\text{ samples}$ in total."
   ]
  },
  {
   "cell_type": "code",
   "execution_count": 66,
   "metadata": {
    "collapsed": true
   },
   "outputs": [],
   "source": [
    "time_series_dir = '/Users/linggeli/Downloads/time_series/cup/'\n",
    "behavioral_dir = '/Users/linggeli/Downloads/fMRIbehav/cup/'"
   ]
  },
  {
   "cell_type": "code",
   "execution_count": 80,
   "metadata": {
    "collapsed": false
   },
   "outputs": [
    {
     "name": "stdout",
     "output_type": "stream",
     "text": [
      "(836, 375)\n"
     ]
    }
   ],
   "source": [
    "subject_id_list = get_subject_id(time_series_dir)\n",
    "X = get_all_features(time_series_dir, subject_id_list)\n",
    "y = get_all_labels(behavioral_dir, subject_id_list)\n",
    "y = (2 - y).astype(int)  # change y to a 0 or 1 integer array\n",
    "print(X.shape)"
   ]
  },
  {
   "cell_type": "markdown",
   "metadata": {},
   "source": [
    "Randomly split the data and only use the first 100 fMRI channels for the model."
   ]
  },
  {
   "cell_type": "code",
   "execution_count": 81,
   "metadata": {
    "collapsed": false
   },
   "outputs": [
    {
     "name": "stdout",
     "output_type": "stream",
     "text": [
      "(600, 100)\n"
     ]
    }
   ],
   "source": [
    "indices = np.random.permutation(X.shape[0])\n",
    "n_train = 600\n",
    "\n",
    "X_train = X[indices[:600], :100]\n",
    "X_val = X[indices[600:800], :100]\n",
    "X_test = X[indices[800:], :100]\n",
    "print(X_train.shape)\n",
    "\n",
    "y_train = y[indices[:600]]\n",
    "y_val   = y[indices[600:800]]\n",
    "y_test  = y[indices[800:]]"
   ]
  },
  {
   "cell_type": "markdown",
   "metadata": {},
   "source": [
    "Build adjacency matrix of nodes/fMRI channels based on Euclidean distance. This needs to be replaced by structural connectivity. Then the graph will be coarsened for pooling."
   ]
  },
  {
   "cell_type": "code",
   "execution_count": 82,
   "metadata": {
    "collapsed": false
   },
   "outputs": [
    {
     "name": "stdout",
     "output_type": "stream",
     "text": [
      "d = |V| = 100, k|V| < |E| = 1478\n"
     ]
    },
    {
     "data": {
      "image/png": "[encoded data removed]",
      "text/plain": [
       "<Figure size 432x288 with 1 Axes>"
      ]
     },
     "metadata": {
      "needs_background": "light"
     },
     "output_type": "display_data"
    }
   ],
   "source": [
    "dist, idx = graph.distance_scipy_spatial(X_train.T, k=10, metric='euclidean')\n",
    "A = graph.adjacency(dist, idx).astype(np.float32)\n",
    "\n",
    "assert A.shape == (d, d)\n",
    "print('d = |V| = {}, k|V| < |E| = {}'.format(d, A.nnz))\n",
    "plt.spy(A, markersize=2, color='black');"
   ]
  },
  {
   "cell_type": "code",
   "execution_count": 83,
   "metadata": {
    "collapsed": false
   },
   "outputs": [
    {
     "name": "stdout",
     "output_type": "stream",
     "text": [
      "Layer 0: M_0 = |V| = 104 nodes (4 added),|E| = 739 edges\n",
      "Layer 1: M_1 = |V| = 52 nodes (1 added),|E| = 374 edges\n",
      "Layer 2: M_2 = |V| = 26 nodes (0 added),|E| = 170 edges\n",
      "Layer 3: M_3 = |V| = 13 nodes (0 added),|E| = 60 edges\n"
     ]
    }
   ],
   "source": [
    "graphs, perm = coarsening.coarsen(A, levels=3, self_connections=False)\n",
    "\n",
    "X_train = coarsening.perm_data(X_train, perm)\n",
    "X_val = coarsening.perm_data(X_val, perm)\n",
    "X_test = coarsening.perm_data(X_test, perm)"
   ]
  },
  {
   "cell_type": "markdown",
   "metadata": {},
   "source": [
    "Example model with two convolution and pooling layers."
   ]
  },
  {
   "cell_type": "code",
   "execution_count": 84,
   "metadata": {
    "collapsed": false
   },
   "outputs": [],
   "source": [
    "params = dict()\n",
    "params['dir_name']       = 'demo'\n",
    "params['num_epochs']     = 10\n",
    "params['batch_size']     = 20\n",
    "params['eval_frequency'] = 2 * n_train / params['batch_size']\n",
    "\n",
    "# Building blocks.\n",
    "params['filter']         = 'chebyshev5'\n",
    "params['brelu']          = 'b1relu'\n",
    "params['pool']           = 'apool1'\n",
    "\n",
    "# Number of classes.\n",
    "C = y.max() + 1\n",
    "assert C == np.unique(y).size\n",
    "\n",
    "# Architecture.\n",
    "params['F']              = [32, 64]  # Number of graph convolutional filters.\n",
    "params['K']              = [20, 20]  # Polynomial orders.\n",
    "params['p']              = [4, 2]    # Pooling sizes.\n",
    "params['M']              = [512, C]  # Output dimensionality of fully connected layers.\n",
    "\n",
    "# Optimization.\n",
    "params['regularization'] = 5e-4\n",
    "params['dropout']        = 1\n",
    "params['learning_rate']  = 1e-3\n",
    "params['decay_rate']     = 0.95\n",
    "params['momentum']       = 0.9\n",
    "params['decay_steps']    = n_train / params['batch_size']"
   ]
  },
  {
   "cell_type": "code",
   "execution_count": 85,
   "metadata": {
    "collapsed": false
   },
   "outputs": [
    {
     "name": "stdout",
     "output_type": "stream",
     "text": [
      "NN architecture\n",
      "  input: M_0 = 104\n",
      "  layer 1: cgconv1\n",
      "    representation: M_0 * F_1 / p_1 = 104 * 32 / 4 = 832\n",
      "    weights: F_0 * F_1 * K_1 = 1 * 32 * 20 = 640\n",
      "    biases: F_1 = 32\n",
      "  layer 2: cgconv2\n",
      "    representation: M_1 * F_2 / p_2 = 26 * 64 / 2 = 832\n",
      "    weights: F_1 * F_2 * K_2 = 32 * 64 * 20 = 40960\n",
      "    biases: F_2 = 64\n",
      "  layer 3: fc1\n",
      "    representation: M_3 = 512\n",
      "    weights: M_2 * M_3 = 832 * 512 = 425984\n",
      "    biases: M_3 = 512\n",
      "  layer 4: logits (softmax)\n",
      "    representation: M_4 = 2\n",
      "    weights: M_3 * M_4 = 512 * 2 = 1024\n",
      "    biases: M_4 = 2\n"
     ]
    }
   ],
   "source": [
    "model = models.cgcnn(L, **params)"
   ]
  },
  {
   "cell_type": "code",
   "execution_count": 86,
   "metadata": {
    "collapsed": false
   },
   "outputs": [
    {
     "name": "stdout",
     "output_type": "stream",
     "text": [
      "step 60 / 300 (epoch 2.00 / 10):\n",
      "  learning_rate = 9.50e-04, loss_average = 1.59e+00\n",
      "  validation accuracy: 69.50 (139 / 200), f1 (weighted): 69.02, loss: 1.52e+00\n",
      "  time: 6s (wall 3s)\n",
      "step 120 / 300 (epoch 4.00 / 10):\n",
      "  learning_rate = 8.57e-04, loss_average = 1.43e+00\n",
      "  validation accuracy: 64.50 (129 / 200), f1 (weighted): 64.43, loss: 1.46e+00\n",
      "  time: 11s (wall 5s)\n",
      "step 180 / 300 (epoch 6.00 / 10):\n",
      "  learning_rate = 7.74e-04, loss_average = 1.35e+00\n",
      "  validation accuracy: 70.50 (141 / 200), f1 (weighted): 70.34, loss: 1.43e+00\n",
      "  time: 16s (wall 7s)\n",
      "step 240 / 300 (epoch 8.00 / 10):\n",
      "  learning_rate = 6.98e-04, loss_average = 1.31e+00\n",
      "  validation accuracy: 69.00 (138 / 200), f1 (weighted): 69.00, loss: 1.44e+00\n",
      "  time: 21s (wall 9s)\n",
      "step 300 / 300 (epoch 10.00 / 10):\n",
      "  learning_rate = 6.30e-04, loss_average = 1.28e+00\n",
      "  validation accuracy: 67.00 (134 / 200), f1 (weighted): 66.99, loss: 1.44e+00\n",
      "  time: 26s (wall 10s)\n",
      "validation accuracy: peak = 70.50, mean = 68.10\n"
     ]
    }
   ],
   "source": [
    "accuracy, loss, t_step = model.fit(X_train, y_train, X_val, y_val)"
   ]
  },
  {
   "cell_type": "code",
   "execution_count": null,
   "metadata": {
    "collapsed": true
   },
   "outputs": [],
   "source": []
  }
 ],
 "metadata": {
  "anaconda-cloud": {},
  "kernelspec": {
   "display_name": "Python [conda env:graphcnn]",
   "language": "python",
   "name": "conda-env-graphcnn-py"
  },
  "language_info": {
   "codemirror_mode": {
    "name": "ipython",
    "version": 3
   },
   "file_extension": ".py",
   "mimetype": "text/x-python",
   "name": "python",
   "nbconvert_exporter": "python",
   "pygments_lexer": "ipython3",
   "version": "3.5.6"
  }
 },
 "nbformat": 4,
 "nbformat_minor": 0
}
